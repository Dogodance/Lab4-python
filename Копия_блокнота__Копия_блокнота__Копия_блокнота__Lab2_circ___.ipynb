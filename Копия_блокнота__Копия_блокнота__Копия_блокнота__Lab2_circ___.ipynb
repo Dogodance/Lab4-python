{
  "cells": [
    {
      "cell_type": "markdown",
      "metadata": {
        "id": "fifteen-sailing"
      },
      "source": [
        "# Лабораторная работа №4\n",
        "## Выполнил студент группы ФИО ГРУППА"
      ],
      "id": "fifteen-sailing"
    },
    {
      "cell_type": "markdown",
      "metadata": {
        "id": "arctic-stocks"
      },
      "source": [
        "Реализовать следующие структуры данных:\n",
        "  \n",
        "● <b> Стек (stack): </b>  \n",
        "Операции для стека: \n",
        "<i> инициализация, проверка на пустоту, добавление нового элемента в начало, извлечение элемента из начала;  </i>  \n",
        "  \n",
        "● <b> Дек (двусторонняя очередь, deque):  </b>  \n",
        "Операции для дека: \n",
        "<i> инициализация, проверка на пустоту, добавление нового элемента в начало, добавление нового элемента в конец, извлечение элемента из начала, извлечение элемента из конца. </i>  \n",
        "  \n",
        "<i> Разработать программу обработки данных, содержащихся в заранее подготовленном txt-файле, в соответствии с заданиями, применив указанную в задании структуру данных. Результат работы программы вывести на экран и сохранить в отдельном txt-файле. </i>"
      ],
      "id": "arctic-stocks"
    },
    {
      "cell_type": "code",
      "execution_count": null,
      "metadata": {
        "id": "3YhLuvY2joyu"
      },
      "outputs": [],
      "source": [
        "class Stack:\n",
        "  def __init__(self):\n",
        "    self.storage = []\n",
        "\n",
        "  def __len__(self):\n",
        "    return len(self.storage)\n",
        "\n",
        "  def isEmpty(self):\n",
        "    return len(self.storage) == 0\n",
        "\n",
        "  def push(self, obj):\n",
        "    self.storage.append(obj)\n",
        "\n",
        "  def pop(self):\n",
        "    return self.storage.pop()\n",
        "\n",
        "  def peek(self):\n",
        "    if len(self.storage) > 0:\n",
        "      return self.storage[0]\n",
        "\n",
        "  def reverse(self):\n",
        "    self.storage = self.storage[::-1]"
      ],
      "id": "3YhLuvY2joyu"
    },
    {
      "cell_type": "code",
      "execution_count": null,
      "metadata": {
        "id": "xroqJaJXkI87"
      },
      "outputs": [],
      "source": [
        "class Deque:\n",
        "  def __init__(self):\n",
        "    self.storage = []\n",
        "\n",
        "  def __len__(self):\n",
        "    return len(self.storage)\n",
        "\n",
        "  def isEmpty(self):\n",
        "    return len(self.storage) == 0\n",
        "  \n",
        "  def push(self, obj):\n",
        "    self.storage.append(obj)\n",
        "\n",
        "  def pop(self):\n",
        "    return self.storage.pop()\n",
        "\n",
        "  def peek(self):\n",
        "    if len(self.storage) > 0:\n",
        "      return self.storage[0]\n",
        "\n",
        "  def push_left(self, obj):\n",
        "    self.storage.insert(0, obj)\n",
        "\n",
        "  def pop_left(self):\n",
        "    if len(self.storage) > 0:\n",
        "      return self.storage.pop(0)"
      ],
      "id": "xroqJaJXkI87"
    },
    {
      "cell_type": "markdown",
      "metadata": {
        "id": "5d7edb08",
        "scrolled": true
      },
      "source": [
        "### Задание №1\n",
        "Отсортировать строки файла, содержащие названия книг, в алфавитном порядке с использованием двух деков."
      ],
      "id": "5d7edb08"
    },
    {
      "cell_type": "code",
      "execution_count": null,
      "metadata": {
        "colab": {
          "base_uri": "https://localhost:8080/"
        },
        "id": "17702ade",
        "outputId": "665193dc-4947-4b81-b559-e4546477452c"
      },
      "outputs": [
        {
          "output_type": "stream",
          "name": "stdout",
          "text": [
            "Дом который построил Джек\n",
            "Гарри Поттер и Орден Феникса\n",
            "\n",
            "Над пропастью во ржи\n",
            "\n"
          ]
        }
      ],
      "source": [
        "f = open(\"test_book.txt\")\n",
        "books = f.readlines()\n",
        "deq1 = Deque()\n",
        "deq2 = Deque()\n",
        "for book in books:\n",
        "  deq1.push(book)\n",
        "while not deq1.isEmpty():\n",
        "  tmp = deq1.pop()\n",
        "  while not deq2.isEmpty() and deq2.peek() < tmp:\n",
        "    deq1.push_left(deq2.pop())\n",
        "  deq2.push(tmp)\n",
        "while not deq2.isEmpty():\n",
        "  print(deq2.pop())"
      ],
      "id": "17702ade"
    },
    {
      "cell_type": "markdown",
      "metadata": {
        "id": "49fbd2a0"
      },
      "source": [
        "### Задание №2\n",
        "Дек содержит последовательность символов для шифровки сообщений. Дан текстовый файл, содержащий зашифрованное сообщение. Пользуясь деком, расшифровать текст. \n",
        "Известно, что при шифровке каждый символ сообщения заменялся следующим за ним в деке по часовой стрелке через один."
      ],
      "id": "49fbd2a0"
    },
    {
      "cell_type": "code",
      "execution_count": null,
      "metadata": {
        "id": "81cab7a8",
        "outputId": "d81ed238-8021-4621-b88d-fefaca0b5df5",
        "colab": {
          "base_uri": "https://localhost:8080/"
        }
      },
      "outputs": [
        {
          "output_type": "stream",
          "name": "stdout",
          "text": [
            "После перемешивания алфаит стал ->  ['м', 'и', 'й', 'ж', 'я', 'о', 'ы', 'ю', 'х', 'д', 'с', 'ч', 'ъ', 'г', 'л', 'з', 'ф', 'р', 'е', 'н', 'п', 'ь', 'ш', 'а', 'к', 'ё', 'в', 'т', 'ц', 'э', 'б', 'у', 'щ']\n"
          ]
        }
      ],
      "source": [
        "import random\n",
        "alphabet = list('абвгдеёжзийклмнопрстуфхцчшщъыьэюя')\n",
        "random.shuffle(alphabet)\n",
        "print(\"После перемешивания алфаит стал -> \", alphabet)\n",
        "deq = Deque()\n",
        "for symbol in alphabet:\n",
        "  deq.push(symbol)"
      ],
      "id": "81cab7a8"
    },
    {
      "cell_type": "code",
      "execution_count": null,
      "metadata": {
        "id": "Re1t202Bnnfi"
      },
      "outputs": [],
      "source": [
        "def encode(char):\n",
        "  for i in range(len(deq)):\n",
        "    tmp = deq.pop_left()\n",
        "    if tmp == char:\n",
        "      deq.push(tmp)\n",
        "      val = deq.pop_left()\n",
        "      deq.push(val)\n",
        "      return val\n",
        "    deq.push(tmp)"
      ],
      "id": "Re1t202Bnnfi"
    },
    {
      "cell_type": "code",
      "execution_count": null,
      "metadata": {
        "id": "po1nVtCAoUGi"
      },
      "outputs": [],
      "source": [
        "def decode(char):\n",
        "  for i in range(len(deq)):\n",
        "    tmp = deq.pop()\n",
        "    if tmp == char:\n",
        "      deq.push_left(tmp)\n",
        "      val = deq.pop()\n",
        "      deq.push_left(val)\n",
        "      return val\n",
        "    deq.push_left(tmp)"
      ],
      "id": "po1nVtCAoUGi"
    },
    {
      "cell_type": "code",
      "execution_count": null,
      "metadata": {
        "id": "NHOjueZgopwz",
        "outputId": "89be6fc1-db74-456f-ad56-1c361e99daa3",
        "colab": {
          "base_uri": "https://localhost:8080/"
        }
      },
      "outputs": [
        {
          "output_type": "stream",
          "name": "stdout",
          "text": [
            "икик июзк екищ, к ькьк ъйцкз лкфнцщ\n"
          ]
        }
      ],
      "source": [
        "text = 'мама мыла раму, а папа читал газету'\n",
        "\n",
        "encoded = ''\n",
        "\n",
        "for symbol in text:\n",
        "  if encode_symbol:= encode(symbol):\n",
        "    encoded += encode_symbol\n",
        "  else:\n",
        "    encoded += symbol\n",
        "\n",
        "print(encoded)"
      ],
      "id": "NHOjueZgopwz"
    },
    {
      "cell_type": "code",
      "execution_count": null,
      "metadata": {
        "colab": {
          "base_uri": "https://localhost:8080/"
        },
        "id": "rBG7jq7isAcY",
        "outputId": "aaf7ebcd-7a7e-4709-9acf-f3fd0d6e8fa4"
      },
      "outputs": [
        {
          "output_type": "stream",
          "name": "stdout",
          "text": [
            "мама мыла раму, а папа читал газету\n"
          ]
        }
      ],
      "source": [
        "decoded = ''\n",
        "\n",
        "for symbol in encoded:\n",
        "  if decode_symbol := decode(symbol):\n",
        "    decoded += decode_symbol\n",
        "  else:\n",
        "    decoded += symbol\n",
        "\n",
        "print(decoded)"
      ],
      "id": "rBG7jq7isAcY"
    },
    {
      "cell_type": "markdown",
      "metadata": {
        "id": "FqRlCos22Arf"
      },
      "source": [],
      "id": "FqRlCos22Arf"
    },
    {
      "cell_type": "markdown",
      "metadata": {
        "id": "c0894f47"
      },
      "source": [
        "### Задание №3\n",
        "Даны три стержня и n дисков различного размера. Диски можно надевать на стержни, образуя из них башни. Перенести n дисков со стержня А на стержень С, сохранив их первоначальный порядок. При переносе дисков необходимо соблюдать следующие правила:\n",
        "- на каждом шаге со стержня на стержень переносить только один диск;\n",
        "- диск нельзя помещать на диск меньшего размера;\n",
        "- для промежуточного хранения можно использовать стержень В.\n",
        "Реализовать алгоритм, используя три стека вместо стержней А, В, С. Информация о дисках хранится в исходном файле."
      ],
      "id": "c0894f47"
    },
    {
      "cell_type": "code",
      "execution_count": null,
      "metadata": {
        "id": "vCMHf9VTttf6"
      },
      "outputs": [],
      "source": [
        "def move(obj1, obj2):\n",
        "  if len(obj1) == 0 and len(obj2) > 0:\n",
        "    obj1.push(obj2.pop())\n",
        "  elif len(obj1) > 0 and len(obj2) == 0:\n",
        "    obj2.push(obj1.pop())\n",
        "  elif len(obj1) == 0 and len(obj2) ==0:\n",
        "    return None\n",
        "  elif obj1.peek() > obj2.peek():\n",
        "    obj1.push(obj2.pop())\n",
        "  else:\n",
        "    obj2.push(obj1.pop())"
      ],
      "id": "vCMHf9VTttf6"
    },
    {
      "cell_type": "code",
      "execution_count": null,
      "metadata": {
        "id": "9e91a9d4",
        "outputId": "3719bf33-4f47-446d-c7c4-a11c2af6c4e6",
        "colab": {
          "base_uri": "https://localhost:8080/"
        }
      },
      "outputs": [
        {
          "output_type": "stream",
          "name": "stdout",
          "text": [
            "1\n",
            "2\n",
            "3\n"
          ]
        }
      ],
      "source": [
        "A = Stack()\n",
        "B = Stack()\n",
        "C = Stack()\n",
        "\n",
        "n = 3\n",
        "\n",
        "for i in range(n, 0, -1):\n",
        "  A.push(i)\n",
        "\n",
        "while len(C) != n:\n",
        "  move(A, B)\n",
        "  move(A, C)\n",
        "  move(B, C)\n",
        "\n",
        "while not C.isEmpty():\n",
        "  print(C.pop())\n"
      ],
      "id": "9e91a9d4"
    },
    {
      "cell_type": "markdown",
      "metadata": {
        "id": "e5b0be17"
      },
      "source": [
        "### Задание №4\n",
        "Дан текстовый файл с программой на алгоритмическом языке. За один просмотр файла проверить баланс круглых скобок в тексте, используя стек."
      ],
      "id": "e5b0be17"
    },
    {
      "cell_type": "code",
      "execution_count": null,
      "metadata": {
        "id": "5b1df60a"
      },
      "outputs": [],
      "source": [
        "def check_brackets(string):\n",
        "  bracket_stack = Stack()\n",
        "  for i in string:\n",
        "    if i == \"(\":\n",
        "      bracket_stack.push(i)\n",
        "    elif i == \")\":\n",
        "      if bracket_stack.isEmpty():\n",
        "        return False\n",
        "      bracket_stack.pop()\n",
        "  return bracket_stack.isEmpty()"
      ],
      "id": "5b1df60a"
    },
    {
      "cell_type": "code",
      "execution_count": null,
      "metadata": {
        "id": "F5Bt9KcEyeJv",
        "outputId": "58116b96-daea-4141-9d95-2f6a09e9fe24",
        "colab": {
          "base_uri": "https://localhost:8080/"
        }
      },
      "outputs": [
        {
          "output_type": "stream",
          "name": "stdout",
          "text": [
            "False\n",
            "True\n"
          ]
        }
      ],
      "source": [
        "f = open('test_bracket.txt')\n",
        "text = f.read()\n",
        "print(check_brackets(text))\n",
        "print(check_brackets(\"(())\"))"
      ],
      "id": "F5Bt9KcEyeJv"
    },
    {
      "cell_type": "markdown",
      "metadata": {
        "id": "c44cdd6b"
      },
      "source": [
        "### Задание №5\n",
        "Дан текстовый файл с программой на алгоритмическом языке. За один просмотр файла проверить баланс квадратных скобок в тексте, используя дек."
      ],
      "id": "c44cdd6b"
    },
    {
      "cell_type": "code",
      "execution_count": null,
      "metadata": {
        "id": "36b8f400"
      },
      "outputs": [],
      "source": [
        "def check_square_brackets(string):\n",
        "  bracket_stack = Stack()\n",
        "  for i in string:\n",
        "    if i == \"[\":\n",
        "      bracket_stack.push(i)\n",
        "    elif i == \"]\":\n",
        "      if bracket_stack.isEmpty():\n",
        "        return False\n",
        "      bracket_stack.pop()\n",
        "  return bracket_stack.isEmpty()"
      ],
      "id": "36b8f400"
    },
    {
      "cell_type": "code",
      "execution_count": null,
      "metadata": {
        "id": "ajgFO_q1y_zG",
        "outputId": "0ddd3f18-27ae-437c-9b20-8b27931a5973",
        "colab": {
          "base_uri": "https://localhost:8080/"
        }
      },
      "outputs": [
        {
          "output_type": "stream",
          "name": "stdout",
          "text": [
            "False\n",
            "True\n"
          ]
        }
      ],
      "source": [
        "f = open('test_bracket2.txt')\n",
        "text = f.read()\n",
        "print(check_square_brackets(text))\n",
        "print(check_square_brackets(\"[[]]\"))"
      ],
      "id": "ajgFO_q1y_zG"
    },
    {
      "cell_type": "markdown",
      "metadata": {
        "id": "59d13dc7"
      },
      "source": [
        "### Задание №6\n",
        "Дан файл из символов. Используя стек, за один просмотр файла напечатать сначала все цифры, затем все буквы, и, наконец, все остальные символы, сохраняя исходный порядок в каждой группе символов."
      ],
      "id": "59d13dc7"
    },
    {
      "cell_type": "code",
      "execution_count": null,
      "metadata": {
        "id": "297e36c2",
        "outputId": "d73b1860-892c-4f77-9763-ac2016f0f419",
        "colab": {
          "base_uri": "https://localhost:8080/"
        }
      },
      "outputs": [
        {
          "output_type": "stream",
          "name": "stdout",
          "text": [
            "12345местопустонебывает     !!!!\n"
          ]
        }
      ],
      "source": [
        "f = open(\"test_exc6.txt\")\n",
        "text = f.read()\n",
        "\n",
        "letters = Stack()\n",
        "symbols = Stack()\n",
        "numbers = Stack()\n",
        "for char in text:\n",
        "  if char.isalpha():\n",
        "    letters.push(char)\n",
        "  elif char.isdigit():\n",
        "    numbers.push(char)\n",
        "  else:\n",
        "    symbols.push(char)\n",
        "\n",
        "letters.reverse()\n",
        "symbols.reverse()\n",
        "numbers.reverse()\n",
        "\n",
        "result = \"\"\n",
        "while not numbers.isEmpty():\n",
        "   result += numbers.pop()\n",
        "while not letters.isEmpty():\n",
        "   result += letters.pop()\n",
        "while not symbols.isEmpty():\n",
        "   result += symbols.pop()\n",
        "\n",
        "print(result)"
      ],
      "id": "297e36c2"
    },
    {
      "cell_type": "markdown",
      "metadata": {
        "id": "973f68bd"
      },
      "source": [
        "### Задание №7\n",
        "Дан файл из целых чисел. Используя дек, за один просмотр файла напечатать сначала все отрицательные числа, затем все положительные числа, сохраняя исходный порядок в каждой группе."
      ],
      "id": "973f68bd"
    },
    {
      "cell_type": "code",
      "execution_count": null,
      "metadata": {
        "id": "c56fad66",
        "outputId": "8727c655-9ebb-45ff-a753-1596f16324d3",
        "colab": {
          "base_uri": "https://localhost:8080/"
        }
      },
      "outputs": [
        {
          "output_type": "stream",
          "name": "stdout",
          "text": [
            "-4\n",
            "-3\n",
            "10\n",
            "5\n",
            "8\n"
          ]
        }
      ],
      "source": [
        "f = open(\"test_exc7.txt\")\n",
        "tokens = f.read().split()\n",
        "numbers = []\n",
        "\n",
        "for num in tokens:\n",
        "  numbers.append(int(num))\n",
        "deq = Deque()\n",
        "for el in numbers:\n",
        "  if el< 0:\n",
        "    deq.push_left(el)\n",
        "  else:\n",
        "    deq.push(el)\n",
        "\n",
        "while not deq.isEmpty():\n",
        "  tmp = deq.pop_left()\n",
        "  if tmp < 0:\n",
        "    deq.push(tmp)\n",
        "  else:\n",
        "    deq.push_left(tmp)\n",
        "    break\n",
        "\n",
        "while not deq.isEmpty():\n",
        "  tmp = deq.pop()\n",
        "  if tmp < 0:\n",
        "    print(tmp)\n",
        "  else:\n",
        "    deq.push(tmp)\n",
        "    break\n",
        "\n",
        "while not deq.isEmpty():\n",
        "  print(deq.pop_left())"
      ],
      "id": "c56fad66"
    },
    {
      "cell_type": "markdown",
      "metadata": {
        "id": "b9228191"
      },
      "source": [
        "### Задание №8\n",
        "Дан текстовый файл. Используя стек, сформировать новый текстовый файл, содержащий строки исходного файла, записанные в обратном порядке: первая строка становится последней, вторая – предпоследней и т.д."
      ],
      "id": "b9228191"
    },
    {
      "cell_type": "code",
      "execution_count": null,
      "metadata": {
        "id": "981fbdfe",
        "outputId": "c5872b5b-003c-4a4d-d8cb-c0291a6ace1e",
        "colab": {
          "base_uri": "https://localhost:8080/"
        }
      },
      "outputs": [
        {
          "output_type": "stream",
          "name": "stdout",
          "text": [
            "Моя третья строка\n",
            "Моя вторая строка\n",
            "Моя первая строка\n"
          ]
        }
      ],
      "source": [
        "f = open(\"test_exc8.txt\")\n",
        "stack = Stack()\n",
        "lines = f.readlines()\n",
        "for line in lines:\n",
        "  tmp = line.strip()\n",
        "  stack.push(tmp)\n",
        "while not stack.isEmpty():\n",
        "  print(stack.pop())"
      ],
      "id": "981fbdfe"
    },
    {
      "cell_type": "markdown",
      "metadata": {
        "id": "rental-jerusalem"
      },
      "source": [
        "### Вывод\n"
      ],
      "id": "rental-jerusalem"
    },
    {
      "cell_type": "markdown",
      "metadata": {
        "id": "0c2b8899"
      },
      "source": [],
      "id": "0c2b8899"
    }
  ],
  "metadata": {
    "colab": {
      "provenance": []
    },
    "kernelspec": {
      "display_name": "Python 3 (ipykernel)",
      "language": "python",
      "name": "python3"
    },
    "language_info": {
      "codemirror_mode": {
        "name": "ipython",
        "version": 3
      },
      "file_extension": ".py",
      "mimetype": "text/x-python",
      "name": "python",
      "nbconvert_exporter": "python",
      "pygments_lexer": "ipython3",
      "version": "3.10.2"
    }
  },
  "nbformat": 4,
  "nbformat_minor": 5
}